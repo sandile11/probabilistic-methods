{
 "cells": [
  {
   "cell_type": "markdown",
   "metadata": {},
   "source": [
    "## Extension to Lab1: Training for multivariate data"
   ]
  },
  {
   "cell_type": "code",
   "execution_count": 1,
   "metadata": {},
   "outputs": [
    {
     "name": "stdout",
     "output_type": "stream",
     "text": [
      "Exception reporting mode: Plain\n"
     ]
    }
   ],
   "source": [
    "import cv2\n",
    "import scipy.stats as ss\n",
    "from mpmath import *\n",
    "import numpy as np\n",
    "import matplotlib.pyplot as plt\n",
    "import math\n",
    "%xmode plain"
   ]
  },
  {
   "cell_type": "code",
   "execution_count": 2,
   "metadata": {},
   "outputs": [],
   "source": [
    "def read_img(img_name='train.jpg', mask_name='mask.jpg'):\n",
    "    \n",
    "    img = cv2.imread(img_name, 1)\n",
    "    img = cv2.cvtColor(img, cv2.COLOR_RGB2HSV)\n",
    "    mask = cv2.imread(mask_name,1)\n",
    "    mask = cv2.cvtColor(mask, cv2.COLOR_RGB2GRAY)\n",
    "    \n",
    "    return np.array(img).astype(float), np.array(mask).astype(float)"
   ]
  },
  {
   "cell_type": "code",
   "execution_count": 3,
   "metadata": {},
   "outputs": [],
   "source": [
    "img, mask = read_img()"
   ]
  },
  {
   "cell_type": "code",
   "execution_count": 4,
   "metadata": {},
   "outputs": [],
   "source": [
    "def get_pixels(img, mask, num_pixels):\n",
    "    \n",
    "    if num_pixels:\n",
    "        ncoin = np.sum(mask > 200 )\n",
    "        ndesk = np.sum(mask <= 200 )\n",
    "        return ncoin, ndesk\n",
    "    else:\n",
    "        coin = img[(mask > 200).nonzero()]\n",
    "        desk = img[(mask <= 200).nonzero()]\n",
    "        return coin, desk"
   ]
  },
  {
   "cell_type": "markdown",
   "metadata": {},
   "source": [
    "## Multivariable MLE"
   ]
  },
  {
   "cell_type": "code",
   "execution_count": 5,
   "metadata": {},
   "outputs": [],
   "source": [
    "def ML(img, mask, percentage, c_or_d):\n",
    "    \n",
    "    coin_pxl, desk_pxl = get_pixels(img, mask, False)\n",
    "    coin_pxl_v = coin_pxl[:,2]\n",
    "    desk_pxl_v = desk_pxl[:,2]\n",
    "    coin_pxl_s = coin_pxl[:,1]\n",
    "    desk_pxl_s = desk_pxl[:,1]\n",
    "    coin_pxl_h = coin_pxl[:,0]\n",
    "    desk_pxl_h = desk_pxl[:,0]\n",
    "    \n",
    "    \n",
    "    # proportion of data to access\n",
    "    num_elements_coin = int(np.floor(percentage*len(coin_pxl)))\n",
    "    num_elements_desk = int(np.floor(percentage*len(desk_pxl)))\n",
    "    \n",
    "    # sigma calculation functions\n",
    "    calc_mu =  lambda x: np.mean(x)\n",
    "    calc_sigma = lambda x, mu: np.mean((x-mu)**2)\n",
    "    \n",
    "    if  c_or_d:\n",
    "        # coin paramaters HSV\n",
    "        coin_mu_h = calc_mu(coin_pxl_h[0:num_elements_coin])\n",
    "        coin_sig_h = calc_sigma(coin_pxl_h[0:num_elements_coin], coin_mu_h)\n",
    "        coin_mu_s = calc_mu(coin_pxl_s[0:num_elements_coin])\n",
    "        coin_sig_s = calc_sigma(coin_pxl_s[0:num_elements_coin], coin_mu_s)\n",
    "        coin_mu_v = calc_mu(coin_pxl_v[0:num_elements_coin])\n",
    "        coin_sig_v = calc_sigma(coin_pxl_v[0:num_elements_coin], coin_mu_v)\n",
    "        \n",
    "        print(\"h mu coin {:.6f} sigma desk {:.6f} ____\".format(coin_mu_h, coin_sig_h))\n",
    "        print(\"s mu coin {:.6f} sigma desk {:.6f} ____\".format(coin_mu_s, coin_sig_s))\n",
    "        print(\"v mu coin {:.6f} sigma desk {:.6f} ____\".format(coin_mu_v, coin_sig_v))\n",
    "        \n",
    "        return coin_mu_h, coin_sig_h, coin_mu_s, coin_sig_s, coin_mu_v, coin_sig_v\n",
    "    \n",
    "    else:\n",
    "        # coin parameters \n",
    "        desk_mu_h = calc_mu(desk_pxl_h[0:num_elements_coin])\n",
    "        desk_sig_h = calc_sigma(desk_pxl_h[0:num_elements_coin], desk_mu_h)\n",
    "        desk_mu_s = calc_mu(desk_pxl_s[0:num_elements_coin])\n",
    "        desk_sig_s = calc_sigma(desk_pxl_s[0:num_elements_coin], desk_mu_s)\n",
    "        desk_mu_v = calc_mu(desk_pxl_v[0:num_elements_coin])\n",
    "        desk_sig_v = calc_sigma(desk_pxl_v[0:num_elements_coin], desk_mu_v)\n",
    "        print(\"h mu desk {:.6f} sigma desk {:.6f} ____\".format(desk_mu_h, desk_sig_h))\n",
    "        print(\"s mu desk {:.6f} sigma desk {:.6f} ____\".format(desk_mu_s, desk_sig_s))\n",
    "        print(\"v mu desk {:.6f} sigma desk {:.6f} ____\".format(desk_mu_v, desk_sig_v))\n",
    "        \n",
    "        return desk_mu_h, desk_sig_h, desk_mu_s, desk_sig_s, desk_mu_v, desk_sig_v\n",
    "     \n",
    "def get_prob(pixels_h, pixels_s, pixels_v, mu_h, var_h, mu_s, var_s, mu_v, var_v):\n",
    "    \n",
    "    p1_h = ss.norm.pdf(pixels_h, mu_h, np.sqrt(var_h))\n",
    "    p1_s = ss.norm.pdf(pixels_s, mu_s, np.sqrt(var_s))\n",
    "    p1_v = ss.norm.pdf(pixels_v, mu_v, np.sqrt(var_v))\n",
    "    \n",
    "    return p1_h, p1_s, p1_v \n",
    "\n",
    "def test_model(img, mask, c_mu_h, c_var_h,c_mu_s, c_var_s, c_mu_v, c_var_v, eps):\n",
    "    \n",
    "    # getting probabilities for h\n",
    "    img_reshape = img[:,:, 0].flatten()\n",
    "    mask_reshape = mask.flatten()\n",
    "    chunk_size =int(np.floor(eps*len(img_reshape)))\n",
    "    pxl_h = img_reshape[0:chunk_size]\n",
    "    \n",
    "    # getting probabilities for s\n",
    "    img_reshape = img[:,:, 1].flatten()\n",
    "    mask_reshape = mask.flatten()\n",
    "    chunk_size =int(np.floor(eps*len(img_reshape)))\n",
    "    pxl_s = img_reshape[0:chunk_size]\n",
    "    \n",
    "    # getting probabilities for v\n",
    "    img_reshape = img[:,:, 2].flatten()\n",
    "    mask_reshape = mask.flatten()\n",
    "    chunk_size =int(np.floor(eps*len(img_reshape)))\n",
    "    pxl_v = img_reshape[0:chunk_size]\n",
    "    \n",
    "    p1_h, p1_s, p1_v = get_prob(pxl_h, pxl_s, pxl_v, c_mu_h, c_var_h,c_mu_s, c_var_s, c_mu_v, c_var_v)\n",
    "    \n",
    "    return p1_h, p1_s, p1_v\n",
    "    \n",
    "def check_acc(mask, probs, eps=1):\n",
    "    dims = mask.shape\n",
    "    mask_reshape = mask.flatten()\n",
    "    chunk_size =int(np.floor(eps*len(mask_reshape)))\n",
    "    mask_pxl = mask_reshape[0:chunk_size]\n",
    "    probs[ probs > 0.5] = 255\n",
    "    probs[ probs <= 0.5] = 0\n",
    "    mask_pxl[ mask_pxl > 200] = 255\n",
    "    mask_pxl[ mask_pxl <= 200] = 0\n",
    "    \n",
    "    cv2.imshow('output', probs.reshape(dims))\n",
    "    cv2.waitKey()\n",
    "    cv2.destroyAllWindows()\n",
    "    \n",
    "    return np.sum(x == mask_pxl)/chunk_size"
   ]
  },
  {
   "cell_type": "code",
   "execution_count": null,
   "metadata": {},
   "outputs": [],
   "source": []
  },
  {
   "cell_type": "code",
   "execution_count": 8,
   "metadata": {},
   "outputs": [
    {
     "name": "stdout",
     "output_type": "stream",
     "text": [
      "h mu coin 28.696981 sigma desk 263.037778 ____\n",
      "s mu coin 20.364947 sigma desk 210.434602 ____\n",
      "v mu coin 203.028564 sigma desk 1155.544580 ____\n",
      "h mu desk 69.990357 sigma desk 2611.327998 ____\n",
      "s mu desk 7.259648 sigma desk 50.755070 ____\n",
      "v mu desk 121.970236 sigma desk 115.982336 ____\n"
     ]
    }
   ],
   "source": [
    "coin_mu_h, coin_sig_h, coin_mu_s, coin_sig_s, coin_mu_v, coin_sig_v = ML(img, mask, 1, True)\n",
    "desk_mu_h, desk_sig_h, desk_mu_s, desk_sig_s, desk_mu_v, desk_sig_v = ML(img, mask, 1, False)\n",
    "p1_h, p1_s, p1_v = test_model(img, mask, coin_mu_h, coin_sig_h, coin_mu_s, coin_sig_s, coin_mu_v, coin_sig_v, eps=1)\n",
    "p2_h, p2_s, p2_v = test_model(img, mask, desk_mu_h, desk_sig_h, desk_mu_s, desk_sig_s, desk_mu_v, desk_sig_v, eps=1)"
   ]
  },
  {
   "cell_type": "markdown",
   "metadata": {},
   "source": [
    "#### Need to add the prior"
   ]
  },
  {
   "cell_type": "code",
   "execution_count": 9,
   "metadata": {},
   "outputs": [
    {
     "data": {
      "text/plain": [
       "0.8319156901041667"
      ]
     },
     "execution_count": 9,
     "metadata": {},
     "output_type": "execute_result"
    }
   ],
   "source": [
    "x = (p1_h*p1_s*p1_v)/((p1_h*p1_s*p1_v) + (p2_h*p2_s*p2_v))\n",
    "check_acc(mask, x, 1)"
   ]
  },
  {
   "cell_type": "code",
   "execution_count": null,
   "metadata": {},
   "outputs": [],
   "source": [
    "img1, mask1 = read_img(img_name='val1.jpg', mask_name='val_mask1.png')\n",
    "p1_h, p1_s, p1_v = test_model(img1, mask1, coin_mu_h, coin_sig_h, coin_mu_s, coin_sig_s, coin_mu_v, coin_sig_v, eps=0.5)\n",
    "p2_h, p2_s, p2_v = test_model(img1, mask1, desk_mu_h, desk_sig_h, desk_mu_s, desk_sig_s, desk_mu_v, desk_sig_v, eps=0.5)\n",
    "x = (p1_h*p1_s*p1_v)/((p1_h*p1_s*p1_v) + (p2_h*p2_s*p2_v))\n",
    "check_acc(mask1, x, 0.5)\n",
    "print(\"validation image 1: \", check_acc(mask1, x, 0.5))\n",
    "\n",
    "###################################\n",
    "img2, mask2 = read_img(img_name='val2.jpg', mask_name='val_mask2.png')\n",
    "p1_h, p1_s, p1_v = test_model(img2, mask2, coin_mu_h, coin_sig_h, coin_mu_s, coin_sig_s, coin_mu_v, coin_sig_v, eps=0.5)\n",
    "p2_h, p2_s, p2_v = test_model(img2, mask2, desk_mu_h, desk_sig_h, desk_mu_s, desk_sig_s, desk_mu_v, desk_sig_v, eps=0.5)\n",
    "x = (p1_h*p1_s*p1_v)/((p1_h*p1_s*p1_v) + (p2_h*p2_s*p2_v))\n",
    "check_acc(mask2, x, 0.5)\n",
    "print(\"validation image 2: \", check_acc(mask2, x, 0.5))"
   ]
  },
  {
   "cell_type": "markdown",
   "metadata": {},
   "source": [
    "## Multivariable MAPE"
   ]
  },
  {
   "cell_type": "code",
   "execution_count": null,
   "metadata": {},
   "outputs": [],
   "source": [
    "def MAPE(img, mask, percentage, c_or_d):\n",
    "    \n",
    "    coin_pxl, desk_pxl = get_pixels(img, mask, False)\n",
    "    coin_pxl_v = coin_pxl[:,2]\n",
    "    desk_pxl_v = desk_pxl[:,2]\n",
    "    coin_pxl_s = coin_pxl[:,1]\n",
    "    desk_pxl_s = desk_pxl[:,1]\n",
    "    coin_pxl_h = coin_pxl[:,0]\n",
    "    desk_pxl_h = desk_pxl[:,0]\n",
    "    \n",
    "    \n",
    "    # proportion of data to access\n",
    "    num_elements_coin = int(np.floor(percentage*len(coin_pxl)))\n",
    "    num_elements_desk = int(np.floor(percentage*len(desk_pxl)))\n",
    "    \n",
    "    # sigma calculation functions\n",
    "    calc_mu = lambda x: (np.sum(x))/(len(x)+1)\n",
    "    calc_sigma = lambda x, mu: (np.sum((x-mu)**2) + 2 + (-mu)**2)/(len(x) + 5)\n",
    "    \n",
    "    if  c_or_d:\n",
    "        # coin paramaters HSV\n",
    "        coin_mu_h = calc_mu(coin_pxl_h[0:num_elements_coin])\n",
    "        coin_sig_h = calc_sigma(coin_pxl_h[0:num_elements_coin], coin_mu_h)\n",
    "        coin_mu_s = calc_mu(coin_pxl_s[0:num_elements_coin])\n",
    "        coin_sig_s = calc_sigma(coin_pxl_s[0:num_elements_coin], coin_mu_s)\n",
    "        coin_mu_v = calc_mu(coin_pxl_v[0:num_elements_coin])\n",
    "        coin_sig_v = calc_sigma(coin_pxl_v[0:num_elements_coin], coin_mu_v)\n",
    "        \n",
    "        print(\"h mu coin {:.6f} sigma desk {:.6f} ____\".format(coin_mu_h, coin_sig_h))\n",
    "        print(\"s mu coin {:.6f} sigma desk {:.6f} ____\".format(coin_mu_s, coin_sig_s))\n",
    "        print(\"v mu coin {:.6f} sigma desk {:.6f} ____\".format(coin_mu_v, coin_sig_v))\n",
    "        \n",
    "        return coin_mu_h, coin_sig_h, coin_mu_s, coin_sig_s, coin_mu_v, coin_sig_v\n",
    "    \n",
    "    else:\n",
    "        # coin parameters \n",
    "        desk_mu_h = calc_mu(desk_pxl_h[0:num_elements_coin])\n",
    "        desk_sig_h = calc_sigma(desk_pxl_h[0:num_elements_coin], desk_mu_h)\n",
    "        desk_mu_s = calc_mu(desk_pxl_s[0:num_elements_coin])\n",
    "        desk_sig_s = calc_sigma(desk_pxl_s[0:num_elements_coin], desk_mu_s)\n",
    "        desk_mu_v = calc_mu(desk_pxl_v[0:num_elements_coin])\n",
    "        desk_sig_v = calc_sigma(desk_pxl_v[0:num_elements_coin], desk_mu_v)\n",
    "        print(\"h mu desk {:.6f} sigma desk {:.6f} ____\".format(desk_mu_h, desk_sig_h))\n",
    "        print(\"s mu desk {:.6f} sigma desk {:.6f} ____\".format(desk_mu_s, desk_sig_s))\n",
    "        print(\"v mu desk {:.6f} sigma desk {:.6f} ____\".format(desk_mu_v, desk_sig_v))\n",
    "        \n",
    "        return desk_mu_h, desk_sig_h, desk_mu_s, desk_sig_s, desk_mu_v, desk_sig_v"
   ]
  },
  {
   "cell_type": "code",
   "execution_count": null,
   "metadata": {},
   "outputs": [],
   "source": [
    "coin_mu_h, coin_sig_h, coin_mu_s, coin_sig_s, coin_mu_v, coin_sig_v = MAPE(img, mask, 0.5, True)\n",
    "desk_mu_h, desk_sig_h, desk_mu_s, desk_sig_s, desk_mu_v, desk_sig_v = MAPE(img, mask, 0.5, False)\n",
    "p1_h, p1_s, p1_v = test_model(img, mask, coin_mu_h, coin_sig_h, coin_mu_s, coin_sig_s, coin_mu_v, coin_sig_v, eps=0.5)\n",
    "p2_h, p2_s, p2_v = test_model(img, mask, desk_mu_h, desk_sig_h, desk_mu_s, desk_sig_s, desk_mu_v, desk_sig_v, eps=0.5)"
   ]
  },
  {
   "cell_type": "code",
   "execution_count": null,
   "metadata": {},
   "outputs": [],
   "source": [
    "x = (p1_h*p1_s*p1_v)/((p1_h*p1_s*p1_v) + (p2_h*p2_s*p2_v))\n",
    "check_acc(mask, x, 0.5)"
   ]
  },
  {
   "cell_type": "code",
   "execution_count": null,
   "metadata": {},
   "outputs": [],
   "source": [
    "img1, mask1 = read_img(img_name='val1.jpg', mask_name='val_mask1.png')\n",
    "p1_h, p1_s, p1_v = test_model(img1, mask1, coin_mu_h, coin_sig_h, coin_mu_s, coin_sig_s, coin_mu_v, coin_sig_v, eps=0.5)\n",
    "p2_h, p2_s, p2_v = test_model(img1, mask1, desk_mu_h, desk_sig_h, desk_mu_s, desk_sig_s, desk_mu_v, desk_sig_v, eps=0.5)\n",
    "x = (p1_h*p1_s*p1_v)/((p1_h*p1_s*p1_v) + (p2_h*p2_s*p2_v))\n",
    "check_acc(mask1, x, 0.5)\n",
    "print(\"validation image 1: \", check_acc(mask1, x, 0.5))\n",
    "\n",
    "###################################\n",
    "img2, mask2 = read_img(img_name='val2.jpg', mask_name='val_mask2.png')\n",
    "p1_h, p1_s, p1_v = test_model(img2, mask2, coin_mu_h, coin_sig_h, coin_mu_s, coin_sig_s, coin_mu_v, coin_sig_v, eps=0.5)\n",
    "p2_h, p2_s, p2_v = test_model(img2, mask2, desk_mu_h, desk_sig_h, desk_mu_s, desk_sig_s, desk_mu_v, desk_sig_v, eps=0.5)\n",
    "x = (p1_h*p1_s*p1_v)/((p1_h*p1_s*p1_v) + (p2_h*p2_s*p2_v))\n",
    "check_acc(mask2, x, 0.5)\n",
    "print(\"validation image 2: \", check_acc(mask2, x, 0.5))"
   ]
  },
  {
   "cell_type": "code",
   "execution_count": null,
   "metadata": {},
   "outputs": [],
   "source": []
  }
 ],
 "metadata": {
  "kernelspec": {
   "display_name": "Python 3",
   "language": "python",
   "name": "python3"
  },
  "language_info": {
   "codemirror_mode": {
    "name": "ipython",
    "version": 3
   },
   "file_extension": ".py",
   "mimetype": "text/x-python",
   "name": "python",
   "nbconvert_exporter": "python",
   "pygments_lexer": "ipython3",
   "version": "3.6.5"
  }
 },
 "nbformat": 4,
 "nbformat_minor": 2
}
