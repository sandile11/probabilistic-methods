{
 "cells": [
  {
   "cell_type": "markdown",
   "metadata": {},
   "source": [
    "## Lab 2c: Multivariate with no independence assumption"
   ]
  },
  {
   "cell_type": "code",
   "execution_count": 1,
   "metadata": {},
   "outputs": [
    {
     "name": "stdout",
     "output_type": "stream",
     "text": [
      "Exception reporting mode: Plain\n"
     ]
    }
   ],
   "source": [
    "import cv2\n",
    "import scipy.stats as ss\n",
    "from mpmath import *\n",
    "import numpy as np\n",
    "import matplotlib.pyplot as plt\n",
    "import math\n",
    "from scipy.stats import multivariate_normal\n",
    "%xmode plain"
   ]
  },
  {
   "cell_type": "code",
   "execution_count": 2,
   "metadata": {},
   "outputs": [],
   "source": [
    "def read_img(img_name='train.jpg', mask_name='mask.jpg'):\n",
    "    \n",
    "    img = cv2.imread(img_name, 1)\n",
    "    img = cv2.cvtColor(img, cv2.COLOR_RGB2HSV)\n",
    "    mask = cv2.imread(mask_name,1)\n",
    "    mask = cv2.cvtColor(mask, cv2.COLOR_RGB2GRAY)\n",
    "    \n",
    "    return np.array(img).astype(float), np.array(mask).astype(float)"
   ]
  },
  {
   "cell_type": "code",
   "execution_count": 3,
   "metadata": {},
   "outputs": [],
   "source": [
    "img, mask = read_img()"
   ]
  },
  {
   "cell_type": "code",
   "execution_count": 4,
   "metadata": {},
   "outputs": [],
   "source": [
    "def get_pixels(img, mask, num_pixels):\n",
    "    \n",
    "    if num_pixels:\n",
    "        ncoin = np.sum(mask > 200 )\n",
    "        ndesk = np.sum(mask <= 200 )\n",
    "        return ncoin, ndesk\n",
    "    else:\n",
    "        coin = img[(mask > 200).nonzero()]\n",
    "        desk = img[(mask <= 200).nonzero()]\n",
    "        return coin, desk"
   ]
  },
  {
   "cell_type": "code",
   "execution_count": 5,
   "metadata": {},
   "outputs": [],
   "source": [
    "def ML(img, mask, percentage, c_or_d):\n",
    "    \n",
    "    coin_pxl, desk_pxl = get_pixels(img, mask, False)\n",
    "    coin_pxl_v = coin_pxl[:,2]\n",
    "    desk_pxl_v = desk_pxl[:,2]\n",
    "    coin_pxl_s = coin_pxl[:,1]\n",
    "    desk_pxl_s = desk_pxl[:,1]\n",
    "    coin_pxl_h = coin_pxl[:,0]\n",
    "    desk_pxl_h = desk_pxl[:,0]\n",
    "    \n",
    "    \n",
    "    # proportion of data to access\n",
    "    num_elements_coin = int(np.floor(percentage*len(coin_pxl)))\n",
    "    num_elements_desk = int(np.floor(percentage*len(desk_pxl)))\n",
    "    \n",
    "    # sigma calculation functions\n",
    "    calc_mu =  lambda x: np.mean(x)\n",
    "    calc_sigma = lambda x: np.cov(x)\n",
    "    \n",
    "    if  c_or_d:\n",
    "        # coin paramaters HS\n",
    "        \n",
    "        coin_mu_h = calc_mu(coin_pxl_h[0:num_elements_coin])\n",
    "        coin_mu_s = calc_mu(coin_pxl_s[0:num_elements_coin])\n",
    "        coin_mu_v = calc_mu(coin_pxl_v[0:num_elements_coin])\n",
    "        \n",
    "        coin_pxl_h = coin_pxl_h[:,np.newaxis]\n",
    "        coin_pxl_s = coin_pxl_s[:,np.newaxis]\n",
    "        coin_pxl_v = coin_pxl_v[:,np.newaxis]\n",
    "        \n",
    "        mus = np.array([coin_mu_h, coin_mu_s, coin_mu_v])\n",
    "        hsv = np.hstack((np.hstack((coin_pxl_h, coin_pxl_s)), coin_pxl_v))\n",
    "        cov_matrix = calc_sigma(hsv.T)\n",
    "        \n",
    "        print(\"coin mu is :\")\n",
    "        display(mus)\n",
    "        print(\"coin sigma is :\")\n",
    "        display(cov_matrix)\n",
    "        return mus, cov_matrix\n",
    "    \n",
    "    else:\n",
    "        # desk parameters \n",
    "        \n",
    "        desk_mu_h = calc_mu(desk_pxl_h[0:num_elements_coin])\n",
    "        desk_mu_s = calc_mu(desk_pxl_s[0:num_elements_coin])\n",
    "        desk_mu_v = calc_mu(desk_pxl_v[0:num_elements_coin])\n",
    "        desk_pxl_h = desk_pxl_h[:,np.newaxis]\n",
    "        desk_pxl_s = desk_pxl_s[:,np.newaxis]\n",
    "        desk_pxl_v = desk_pxl_v[:,np.newaxis]\n",
    "        mus = np.array([desk_mu_h, desk_mu_s, desk_mu_v])\n",
    "        hsv = np.hstack((np.hstack((desk_pxl_h, desk_pxl_s)), desk_pxl_v))\n",
    "        print(hsv.shape)\n",
    "        cov_matrix = calc_sigma(hsv.T)\n",
    "        \n",
    "        print(\"desk mu is :\")\n",
    "        display(mus)\n",
    "        print(\"desk sigma is :\")\n",
    "        display(cov_matrix)\n",
    "        return mus, cov_matrix"
   ]
  },
  {
   "cell_type": "code",
   "execution_count": 6,
   "metadata": {},
   "outputs": [
    {
     "name": "stdout",
     "output_type": "stream",
     "text": [
      "coin mu is :\n"
     ]
    },
    {
     "data": {
      "text/plain": [
       "array([ 28.57463203,  20.45532468, 203.10190476])"
      ]
     },
     "metadata": {},
     "output_type": "display_data"
    },
    {
     "name": "stdout",
     "output_type": "stream",
     "text": [
      "coin sigma is :\n"
     ]
    },
    {
     "data": {
      "text/plain": [
       "array([[ 263.043415  ,  -85.1797514 , -107.28862717],\n",
       "       [ -85.1797514 ,  210.43911158, -124.91564469],\n",
       "       [-107.28862717, -124.91564469, 1155.56934222]])"
      ]
     },
     "metadata": {},
     "output_type": "display_data"
    },
    {
     "name": "stdout",
     "output_type": "stream",
     "text": [
      "(1182133, 3)\n",
      "desk mu is :\n"
     ]
    },
    {
     "data": {
      "text/plain": [
       "array([ 69.87906926,   7.26002165, 121.89974026])"
      ]
     },
     "metadata": {},
     "output_type": "display_data"
    },
    {
     "name": "stdout",
     "output_type": "stream",
     "text": [
      "desk sigma is :\n"
     ]
    },
    {
     "data": {
      "text/plain": [
       "array([[1115.07996944,   43.44266321, -102.34701937],\n",
       "       [  43.44266321,   30.83451645,   13.7546553 ],\n",
       "       [-102.34701937,   13.7546553 ,  337.81563989]])"
      ]
     },
     "metadata": {},
     "output_type": "display_data"
    }
   ],
   "source": [
    "coin_mu, coin_sigma = ML(img, mask, 0.99, True)\n",
    "desk_mu, desk_sigma = ML(img, mask, 0.99, False)"
   ]
  },
  {
   "cell_type": "code",
   "execution_count": 7,
   "metadata": {},
   "outputs": [],
   "source": [
    "coin_distribution = multivariate_normal(mean=coin_mu, cov=coin_sigma)\n",
    "desk_distribution = multivariate_normal(mean=desk_mu, cov=desk_sigma)"
   ]
  },
  {
   "cell_type": "code",
   "execution_count": 8,
   "metadata": {},
   "outputs": [],
   "source": [
    "def classify(img, coin_distribution, desk_distribution):\n",
    "    out_acc = []\n",
    "    for i in range(img.shape[0]):\n",
    "        for j in range(img.shape[1]):\n",
    "            p_coin = coin_distribution.pdf(img[i, j, :])\n",
    "            p_desk = desk_distribution.pdf(img[i, j, :])\n",
    "            nb_prob = p_coin/(p_coin + p_desk)\n",
    "            if nb_prob > 0.5:\n",
    "                img[i, j, :] = 255\n",
    "                out_acc.append(255)\n",
    "            else:\n",
    "                img[i, j, :] = 0\n",
    "                out_acc.append(0)\n",
    "    \n",
    "    cv2.imshow('output', img)\n",
    "    cv2.waitKey()\n",
    "    cv2.destroyAllWindows()\n",
    "                \n",
    "    out_acc = np.array(out_acc)          \n",
    "    \n",
    "    return out_acc"
   ]
  },
  {
   "cell_type": "code",
   "execution_count": 9,
   "metadata": {},
   "outputs": [
    {
     "data": {
      "text/plain": [
       "0.9107560221354166"
      ]
     },
     "execution_count": 9,
     "metadata": {},
     "output_type": "execute_result"
    }
   ],
   "source": [
    "mask[ mask >= 200] = 255\n",
    "mask[mask < 200] = 0\n",
    "mask = mask.flatten()\n",
    "out_acc = classify(img, coin_distribution, desk_distribution)\n",
    "np.sum(mask == out_acc)/len(out_acc)"
   ]
  },
  {
   "cell_type": "code",
   "execution_count": 10,
   "metadata": {},
   "outputs": [
    {
     "name": "stdout",
     "output_type": "stream",
     "text": [
      "validation image 1:  0.8177425130208333\n",
      "validation image 1:  0.9280037434895834\n"
     ]
    }
   ],
   "source": [
    "img1, mask1 = read_img(img_name='val1.jpg', mask_name='val_mask1.png')\n",
    "mask1[ mask1 >= 200] = 255\n",
    "mask1[mask1 < 200] = 0\n",
    "mask1 = mask1.flatten()\n",
    "out_acc = classify(img1, coin_distribution, desk_distribution)\n",
    "acc = np.sum(mask1 ==  out_acc)/len(out_acc)\n",
    "print(\"validation image 1: \", acc)\n",
    "\n",
    "###################################\n",
    "img2, mask2 = read_img(img_name='val2.jpg', mask_name='val_mask2.png')\n",
    "mask2[ mask2 >= 200] = 255\n",
    "mask2[mask2 < 200] = 0\n",
    "mask2 = mask2.flatten()\n",
    "out_acc = classify(img2, coin_distribution, desk_distribution)\n",
    "acc = np.sum(mask2 ==  out_acc)/len(out_acc)\n",
    "print(\"validation image 1: \", acc)"
   ]
  },
  {
   "cell_type": "code",
   "execution_count": null,
   "metadata": {},
   "outputs": [],
   "source": []
  }
 ],
 "metadata": {
  "kernelspec": {
   "display_name": "Python 3",
   "language": "python",
   "name": "python3"
  },
  "language_info": {
   "codemirror_mode": {
    "name": "ipython",
    "version": 3
   },
   "file_extension": ".py",
   "mimetype": "text/x-python",
   "name": "python",
   "nbconvert_exporter": "python",
   "pygments_lexer": "ipython3",
   "version": "3.6.5"
  }
 },
 "nbformat": 4,
 "nbformat_minor": 2
}
