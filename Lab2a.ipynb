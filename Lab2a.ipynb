{
 "cells": [
  {
   "cell_type": "markdown",
   "metadata": {},
   "source": [
    "## Extension to lab 1: Including the prior"
   ]
  },
  {
   "cell_type": "code",
   "execution_count": 10,
   "metadata": {},
   "outputs": [
    {
     "name": "stdout",
     "output_type": "stream",
     "text": [
      "Exception reporting mode: Plain\n"
     ]
    }
   ],
   "source": [
    "import cv2\n",
    "import scipy.stats as ss\n",
    "from mpmath import *\n",
    "import numpy as np\n",
    "import matplotlib.pyplot as plt\n",
    "import math\n",
    "%xmode plain"
   ]
  },
  {
   "cell_type": "code",
   "execution_count": 11,
   "metadata": {},
   "outputs": [],
   "source": [
    "def read_img(img_name='train.jpg', mask_name='mask.jpg'):\n",
    "    \n",
    "    img = cv2.imread(img_name, 1)\n",
    "    img = cv2.cvtColor(img, cv2.COLOR_RGB2HSV)\n",
    "    mask = cv2.imread(mask_name, 1)\n",
    "    mask = cv2.cvtColor(mask, cv2.COLOR_RGB2GRAY)\n",
    "    \n",
    "    return np.array(img).astype(float), np.array(mask).astype(float)"
   ]
  },
  {
   "cell_type": "code",
   "execution_count": 12,
   "metadata": {},
   "outputs": [],
   "source": [
    "img, mask = read_img()"
   ]
  },
  {
   "cell_type": "code",
   "execution_count": 13,
   "metadata": {},
   "outputs": [],
   "source": [
    "def get_pixels(img, mask, num_pixels):\n",
    "    threshold = 128\n",
    "    if num_pixels:\n",
    "        ncoin = np.sum(mask > threshold )\n",
    "        ndesk = np.sum(mask <= threshold )\n",
    "        return ncoin, ndesk\n",
    "    else:\n",
    "        coin = img[(mask > threshold).nonzero()]\n",
    "        desk = img[(mask <= threshold).nonzero()]\n",
    "        return coin, desk"
   ]
  },
  {
   "cell_type": "code",
   "execution_count": 14,
   "metadata": {},
   "outputs": [],
   "source": [
    "def ML(img, mask, percentage):\n",
    "    \n",
    "    coin_pxl, desk_pxl = get_pixels(img, mask, False)\n",
    "    coin_pxl = coin_pxl[:,2]\n",
    "    desk_pxl = desk_pxl[:,2]\n",
    "    \n",
    "    # proportion of data to access\n",
    "    num_elements_coin = int(np.floor(percentage*len(coin_pxl)))\n",
    "    num_elements_desk = int(np.floor(percentage*len(desk_pxl)))\n",
    "    \n",
    "    # sigma calculation functions\n",
    "    calc_mu =  lambda x: np.mean(x)\n",
    "    calc_sigma = lambda x, mu: np.mean((x-mu)**2)\n",
    "    \n",
    "    # coin paramaters\n",
    "    coin_mu = calc_mu(coin_pxl[0:num_elements_coin])\n",
    "    coin_sig = calc_sigma(coin_pxl[0:num_elements_coin], coin_mu)\n",
    "\n",
    "    # non-coin paramaters\n",
    "    desk_mu = calc_mu(desk_pxl[0:num_elements_desk])\n",
    "    desk_sig = calc_sigma(desk_pxl[0:num_elements_desk], desk_mu)\n",
    "    \n",
    "    print(\"{:.2f}% mu coin {:.6f} sigma coin {:.6f} ____ mu coin {:.6f} sigma coin {:.6f}\".format(percentage, coin_mu, coin_sig, desk_mu, desk_sig))\n",
    "    \n",
    "    return coin_mu, coin_sig, desk_mu, desk_sig\n",
    "\n",
    "def get_prob(pixels, c_mu, c_var, d_mu, d_var, prior):\n",
    "    \n",
    "    p1 = ss.norm.pdf(pixels, c_mu, np.sqrt(c_var))\n",
    "    p2 = ss.norm.pdf(pixels, d_mu, np.sqrt(d_var))\n",
    "    \n",
    "    return (p1*prior)/(p1*(prior) + p2*(1-prior))\n",
    "\n",
    "def test_model(img, mask, c_mu, c_var, d_mu, d_var, lam6da, eps=1):\n",
    "    \n",
    "    img_reshape = img[:,:, 2].flatten()\n",
    "    mask_reshape = mask.flatten()\n",
    "    \n",
    "    chunk_size =int(np.floor(eps*len(img_reshape)))\n",
    "    pxl = img_reshape[0:chunk_size]\n",
    "    mask_pxl = mask_reshape[0:chunk_size]\n",
    "    x = get_prob(pxl, c_mu, c_var, d_mu, d_var, lam6da)\n",
    "    print(x)\n",
    "    x[ x > 0.5] = 1\n",
    "    x[ x <= 0.5] = 0\n",
    "    mask_pxl[ mask_pxl > 200] = 255\n",
    "    mask_pxl[ mask_pxl <= 200] = 0\n",
    "    \n",
    "    return mask_pxl.reshape((960, 1280))\n",
    "#     return np.sum(x == mask_pxl)/chunk_size\n",
    "    "
   ]
  },
  {
   "cell_type": "code",
   "execution_count": 15,
   "metadata": {},
   "outputs": [],
   "source": [
    "def get_ml_lam6da(train_img, train_mask):\n",
    "    \n",
    "    ncoin, ndesk = get_pixels(train_img, train_mask, True)\n",
    "    print(ncoin / (ncoin + ndesk))\n",
    "    return ncoin / (ncoin + ndesk)\n",
    "\n",
    "def get_map_lam6da(train_img, train_mask, alpha, beta):\n",
    "        \n",
    "    ncoin, ndesk = get_pixels(train_img, train_mask, True)\n",
    "    lam6da_h = (ncoin + alpha - 1)/((ncoin + ndesk) + ( alpha + beta) - 2) \n",
    "    \n",
    "    print(lam6da_h)\n",
    "    \n",
    "    return lam6da_h"
   ]
  },
  {
   "cell_type": "code",
   "execution_count": null,
   "metadata": {},
   "outputs": [
    {
     "name": "stdout",
     "output_type": "stream",
     "text": [
      "0.03838053385416667\n",
      "0.03838053385416667\n"
     ]
    }
   ],
   "source": [
    "lam6da = get_ml_lam6da(img, mask)\n",
    "lam6da_map = get_map_lam6da(img, mask, 1, 1)"
   ]
  },
  {
   "cell_type": "code",
   "execution_count": null,
   "metadata": {},
   "outputs": [
    {
     "name": "stdout",
     "output_type": "stream",
     "text": [
      "1.00% mu coin 202.131568 sigma coin 1234.243387 ____ mu coin 137.204442 sigma coin 337.197810\n",
      "[0.00273024 0.00295244 0.00308012 ... 0.00322021 0.00295244 0.00273024]\n"
     ]
    }
   ],
   "source": [
    "coin_mu, coin_sig, desk_mu, desk_sig = ML(img, mask, 1.0)\n",
    "out = test_model(img, mask, coin_mu, coin_sig, desk_mu, desk_sig, lam6da, eps=1.0)\n",
    "cv2.imshow('output', out)\n",
    "cv2.waitKey(0)\n",
    "cv2.destroyAllWindows()"
   ]
  },
  {
   "cell_type": "code",
   "execution_count": null,
   "metadata": {},
   "outputs": [],
   "source": []
  },
  {
   "cell_type": "code",
   "execution_count": null,
   "metadata": {},
   "outputs": [],
   "source": [
    "img1, mask1 = read_img(img_name='val1.jpg', mask_name='val_mask1.png')\n",
    "print(\"v image 1 ML: \", test_model(img1, mask1, coin_mu, coin_sig, desk_mu, desk_sig, lam6da, eps=1))\n",
    "img1, mask1 = read_img(img_name='val1.jpg', mask_name='val_mask1.png')\n",
    "print(\"v image 1 MAP: \", test_model(img1, mask1, coin_mu, coin_sig, desk_mu, desk_sig, lam6da_map, eps=1))\n",
    "###################################\n",
    "img2, mask2 = read_img(img_name='val2.jpg', mask_name='val_mask2.png')\n",
    "print(\"v image 2 ML: \", test_model(img2, mask2, coin_mu, coin_sig, desk_mu, desk_sig, lam6da, eps=1))\n",
    "img2, mask2 = read_img(img_name='val2.jpg', mask_name='val_mask2.png')\n",
    "print(\"v image 2 MAP: \", test_model(img2, mask2, coin_mu, coin_sig, desk_mu, desk_sig, lam6da, eps=1))"
   ]
  },
  {
   "cell_type": "code",
   "execution_count": null,
   "metadata": {},
   "outputs": [],
   "source": [
    "def MAP(img, mask, percentage):\n",
    "    \n",
    "    coin_pxl, desk_pxl = get_pixels(img, mask, False)\n",
    "    coin_pxl = coin_pxl[:,2]\n",
    "    desk_pxl = desk_pxl[:,2]\n",
    "    \n",
    "    # proportion of data to access\n",
    "    num_elements_coin = int(np.floor(percentage*len(coin_pxl)))\n",
    "    num_elements_desk = int(np.floor(percentage*len(desk_pxl)))    \n",
    "    \n",
    "    #sigma calculation functions\n",
    "    calc_mu = lambda x: (np.sum(x))/(len(x)+1)\n",
    "    calc_sigma = lambda x, mu: (np.sum((x-mu)**2) + 2 + (-mu)**2)/(len(x) + 5)\n",
    "    \n",
    "    # coin paramaters\n",
    "    coin_mu = calc_mu(coin_pxl[0:num_elements_coin])\n",
    "    coin_sig = calc_sigma(coin_pxl[0:num_elements_coin], coin_mu)\n",
    "\n",
    "    # non-coin paramaters\n",
    "    desk_mu = calc_mu(desk_pxl[0:num_elements_desk])\n",
    "    desk_sig = calc_sigma(desk_pxl[0:num_elements_desk], desk_mu)\n",
    "    \n",
    "    print(\"{:.2f}% mu coin {:.6f} sigma coin {:.6f} ____ mu coin {:.6f} sigma coin {:.6f}\".format(percentage, coin_mu, coin_sig, desk_mu, desk_sig))\n",
    "    \n",
    "    return coin_mu, coin_sig, desk_mu, desk_sig"
   ]
  },
  {
   "cell_type": "code",
   "execution_count": null,
   "metadata": {},
   "outputs": [],
   "source": [
    "coin_mu1, coin_sig1, desk_mu1, desk_sig1 = MAP(img, mask, 1)\n",
    "out = test_model(img, mask, coin_mu1, coin_sig1, desk_mu1, desk_sig1, lam6da,eps=1)\n",
    "cv2.imshow('output', out)\n",
    "cv2.waitKey(0)\n",
    "cv2.destroyAllWindows()"
   ]
  },
  {
   "cell_type": "code",
   "execution_count": null,
   "metadata": {},
   "outputs": [],
   "source": [
    "img1, mask1 = read_img(img_name='val1.jpg', mask_name='val_mask1.png')\n",
    "print(\"validation image 1: \", test_model(img1, mask1, coin_mu1, coin_sig1, desk_mu1, desk_sig1, eps=0.5))\n",
    "###################################\n",
    "img2, mask2 = read_img(img_name='val2.jpg', mask_name='val_mask2.png')\n",
    "print(\"validation image 2: \", test_model(img2, img2, coin_mu1, coin_sig1, desk_mu1, desk_sig1, eps=0.5))"
   ]
  }
 ],
 "metadata": {
  "kernelspec": {
   "display_name": "Python 3",
   "language": "python",
   "name": "python3"
  },
  "language_info": {
   "codemirror_mode": {
    "name": "ipython",
    "version": 3
   },
   "file_extension": ".py",
   "mimetype": "text/x-python",
   "name": "python",
   "nbconvert_exporter": "python",
   "pygments_lexer": "ipython3",
   "version": "3.6.5"
  }
 },
 "nbformat": 4,
 "nbformat_minor": 2
}
