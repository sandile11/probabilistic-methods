{
 "cells": [
  {
   "cell_type": "code",
   "execution_count": 3,
   "metadata": {},
   "outputs": [
    {
     "name": "stdout",
     "output_type": "stream",
     "text": [
      "Exception reporting mode: Plain\n"
     ]
    }
   ],
   "source": [
    "import cv2\n",
    "import scipy.stats as ss\n",
    "from mpmath import *\n",
    "import numpy as np\n",
    "import matplotlib.pyplot as plt\n",
    "import math\n",
    "%xmode plain"
   ]
  },
  {
   "cell_type": "code",
   "execution_count": 4,
   "metadata": {},
   "outputs": [],
   "source": [
    "def read_img(img_name='train.jpg', mask_name='mask.jpg'):\n",
    "    \n",
    "    img = cv2.imread(img_name, 1)\n",
    "    img = cv2.cvtColor(img, cv2.COLOR_RGB2HSV)\n",
    "    mask = cv2.imread(mask_name,1)\n",
    "    mask = cv2.cvtColor(mask, cv2.COLOR_RGB2GRAY)\n",
    "    \n",
    "    return np.array(img).astype(float), np.array(mask).astype(float)"
   ]
  },
  {
   "cell_type": "code",
   "execution_count": 5,
   "metadata": {},
   "outputs": [],
   "source": [
    "img, mask = read_img()"
   ]
  },
  {
   "cell_type": "code",
   "execution_count": 6,
   "metadata": {},
   "outputs": [],
   "source": [
    "def get_pixels(img, mask, num_pixels):\n",
    "    \n",
    "    if num_pixels:\n",
    "        ncoin = np.sum(mask > 200 )\n",
    "        ndesk = np.sum(mask <= 200 )\n",
    "        return ncoin, ndesk\n",
    "    else:\n",
    "        coin = img[(mask > 200).nonzero()]\n",
    "        desk = img[(mask <= 200).nonzero()]\n",
    "        return coin, desk"
   ]
  },
  {
   "cell_type": "code",
   "execution_count": 7,
   "metadata": {},
   "outputs": [],
   "source": [
    "def ML(img, mask, percentage):\n",
    "    \n",
    "    coin_pxl, desk_pxl = get_pixels(img, mask, False)\n",
    "    coin_pxl = coin_pxl[:,2]\n",
    "    desk_pxl = desk_pxl[:,2]\n",
    "    \n",
    "    # proportion of data to access\n",
    "    num_elements_coin = int(np.floor(percentage*len(coin_pxl)))\n",
    "    num_elements_desk = int(np.floor(percentage*len(desk_pxl)))\n",
    "    \n",
    "    # sigma calculation functions\n",
    "    calc_mu =  lambda x: np.mean(x)\n",
    "    calc_sigma = lambda x, mu: np.mean((x-mu)**2)\n",
    "    \n",
    "    # coin paramaters\n",
    "    coin_mu = calc_mu(coin_pxl[0:num_elements_coin])\n",
    "    coin_sig = calc_sigma(coin_pxl[0:num_elements_coin], coin_mu)\n",
    "\n",
    "    # non-coin paramaters\n",
    "    desk_mu = calc_mu(desk_pxl[0:num_elements_desk])\n",
    "    desk_sig = calc_sigma(desk_pxl[0:num_elements_desk], desk_mu)\n",
    "    \n",
    "    print(\"{:.2f}% mu coin {:.6f} sigma coin {:.6f} ____ mu coin {:.6f} sigma coin {:.6f}\".format(percentage, coin_mu, coin_sig, desk_mu, desk_sig))\n",
    "    \n",
    "    return coin_mu, coin_sig, desk_mu, desk_sig\n",
    "\n",
    "def get_prob(pixels, c_mu, c_var, d_mu, d_var):\n",
    "    \n",
    "    p1 = ss.norm.pdf(pixels, c_mu, np.sqrt(c_var))\n",
    "    p2 = ss.norm.pdf(pixels, d_mu, np.sqrt(d_var))\n",
    "    print(p1)\n",
    "    return p1/(p1 + p2)\n",
    "\n",
    "def test_model(img, mask, c_mu, c_var, d_mu, d_var, eps=1):\n",
    "    \n",
    "    img_reshape = img[:,:, 2].flatten()\n",
    "    mask_reshape = mask.flatten()\n",
    "    \n",
    "    chunk_size =int(np.floor(eps*len(img_reshape)))\n",
    "    pxl = img_reshape[0:chunk_size]\n",
    "    mask_pxl = mask_reshape[0:chunk_size]\n",
    "    x = get_prob(pxl, c_mu, c_var, d_mu, d_var)\n",
    "    \n",
    "    x[ x > 0.5] = 1\n",
    "    x[ x <= 0.5] = 0\n",
    "    mask_pxl[ mask_pxl > 200] = 1\n",
    "    mask_pxl[ mask_pxl <= 200] = 0\n",
    "    \n",
    "    return np.sum(x == mask_pxl)/chunk_size\n",
    "    "
   ]
  },
  {
   "cell_type": "code",
   "execution_count": 8,
   "metadata": {},
   "outputs": [
    {
     "name": "stdout",
     "output_type": "stream",
     "text": [
      "0.50% mu coin 207.997043 sigma coin 1308.684644 ____ mu coin 127.514487 sigma coin 135.641760\n",
      "[0.00107911 0.00121386 0.00128594 ... 0.00089933 0.00114494 0.00152192]\n"
     ]
    },
    {
     "data": {
      "text/plain": [
       "0.9130143229166666"
      ]
     },
     "execution_count": 8,
     "metadata": {},
     "output_type": "execute_result"
    }
   ],
   "source": [
    "coin_mu, coin_sig, desk_mu, desk_sig = ML(img, mask, 0.5)\n",
    "test_model(img, mask, coin_mu, coin_sig, desk_mu, desk_sig, eps=0.5)"
   ]
  },
  {
   "cell_type": "code",
   "execution_count": 9,
   "metadata": {},
   "outputs": [
    {
     "name": "stdout",
     "output_type": "stream",
     "text": [
      "[0.00065369 0.00061189 0.00053489 ... 0.00061189 0.00069783 0.00074437]\n",
      "validation image 1:  0.9481022135416667\n",
      "[0.00057231 0.00053489 0.00053489 ... 0.00049953 0.00069783 0.00089933]\n",
      "validation image 2:  0.9702408854166666\n"
     ]
    }
   ],
   "source": [
    "img1, mask1 = read_img(img_name='val1.jpg', mask_name='val_mask1.png')\n",
    "print(\"validation image 1: \", test_model(img1, mask1, coin_mu, coin_sig, desk_mu, desk_sig, eps=0.5))\n",
    "###################################\n",
    "img2, mask2 = read_img(img_name='val2.jpg', mask_name='val_mask2.png')\n",
    "print(\"validation image 2: \", test_model(img2, img2, coin_mu, coin_sig, desk_mu, desk_sig, eps=0.5))"
   ]
  },
  {
   "cell_type": "code",
   "execution_count": 10,
   "metadata": {},
   "outputs": [],
   "source": [
    "def MAP(img, mask, percentage):\n",
    "    \n",
    "    coin_pxl, desk_pxl = get_pixels(img, mask, False)\n",
    "    coin_pxl = coin_pxl[:,2]\n",
    "    desk_pxl = desk_pxl[:,2]\n",
    "    \n",
    "    # proportion of data to access\n",
    "    num_elements_coin = int(np.floor(percentage*len(coin_pxl)))\n",
    "    num_elements_desk = int(np.floor(percentage*len(desk_pxl)))    \n",
    "    \n",
    "    #sigma calculation functions\n",
    "    calc_mu = lambda x: (np.sum(x))/(len(x)+1)\n",
    "    calc_sigma = lambda x, mu: (np.sum((x-mu)**2) + 2 + (-mu)**2)/(len(x) + 5)\n",
    "    \n",
    "    # coin paramaters\n",
    "    coin_mu = calc_mu(coin_pxl[0:num_elements_coin])\n",
    "    coin_sig = calc_sigma(coin_pxl[0:num_elements_coin], coin_mu)\n",
    "\n",
    "    # non-coin paramaters\n",
    "    desk_mu = calc_mu(desk_pxl[0:num_elements_desk])\n",
    "    desk_sig = calc_sigma(desk_pxl[0:num_elements_desk], desk_mu)\n",
    "    \n",
    "    print(\"{:.2f}% mu coin {:.6f} sigma coin {:.6f} ____ mu coin {:.6f} sigma coin {:.6f}\".format(percentage, coin_mu, coin_sig, desk_mu, desk_sig))\n",
    "    \n",
    "    return coin_mu, coin_sig, desk_mu, desk_sig"
   ]
  },
  {
   "cell_type": "code",
   "execution_count": 11,
   "metadata": {},
   "outputs": [
    {
     "name": "stdout",
     "output_type": "stream",
     "text": [
      "0.50% mu coin 207.988129 sigma coin 1310.258022 ____ mu coin 127.514272 sigma coin 135.668125\n",
      "[0.00108205 0.00121698 0.00128915 ... 0.000902   0.00114797 0.00152538]\n"
     ]
    },
    {
     "data": {
      "text/plain": [
       "0.9130143229166666"
      ]
     },
     "execution_count": 11,
     "metadata": {},
     "output_type": "execute_result"
    }
   ],
   "source": [
    "coin_mu1, coin_sig1, desk_mu1, desk_sig1 = MAP(img, mask, 0.5)\n",
    "test_model(img, mask, coin_mu1, coin_sig1, desk_mu1, desk_sig1, eps=0.5)"
   ]
  },
  {
   "cell_type": "code",
   "execution_count": 12,
   "metadata": {},
   "outputs": [
    {
     "name": "stdout",
     "output_type": "stream",
     "text": [
      "[0.00065591 0.00061401 0.00053684 ... 0.00061401 0.00070013 0.00074676]\n",
      "validation image 1:  0.9481022135416667\n",
      "[0.00057435 0.00053684 0.00053684 ... 0.0005014  0.00070013 0.000902  ]\n",
      "validation image 2:  0.9702408854166666\n"
     ]
    }
   ],
   "source": [
    "img1, mask1 = read_img(img_name='val1.jpg', mask_name='val_mask1.png')\n",
    "print(\"validation image 1: \", test_model(img1, mask1, coin_mu1, coin_sig1, desk_mu1, desk_sig1, eps=0.5))\n",
    "###################################\n",
    "img2, mask2 = read_img(img_name='val2.jpg', mask_name='val_mask2.png')\n",
    "print(\"validation image 2: \", test_model(img2, img2, coin_mu1, coin_sig1, desk_mu1, desk_sig1, eps=0.5))"
   ]
  },
  {
   "cell_type": "markdown",
   "metadata": {},
   "source": [
    "## BA(Bayesian Approach)"
   ]
  },
  {
   "cell_type": "code",
   "execution_count": 25,
   "metadata": {},
   "outputs": [],
   "source": [
    "def BA_tilde_vars(img_train, mask_train, percentage, coin):\n",
    "        \n",
    "    coin_pxl, desk_pxl = get_pixels(img_train, mask_train, False)\n",
    "    coin_pxl = coin_pxl[:, 2]\n",
    "    desk_pxl = desk_pxl[:, 2]\n",
    "\n",
    "    # proportion of data to access\n",
    "    num_elements_coin = int(np.floor(percentage*len(coin_pxl)))\n",
    "    num_elements_desk = int(np.floor(percentage*len(desk_pxl)))   \n",
    "    \n",
    "    coin_pxl = coin_pxl[0:num_elements_coin]\n",
    "    desk_pxl = desk_pxl[0:num_elements_desk]\n",
    "    \n",
    "    if coin:\n",
    "        # coin \n",
    "        alpha_tc = 1 + len(coin_pxl)/2\n",
    "        gamma_tc = 1 + len(coin_pxl)\n",
    "        delta_tc = np.sum(coin_pxl)/(1 + len(coin_pxl))\n",
    "        beta_tc = np.sum(coin_pxl**2)/2 + 1 - (np.sum(coin_pxl)**2)/(2*(1+ len(coin_pxl)))\n",
    "        \n",
    "        return alpha_tc, gamma_tc, delta_tc, beta_tc\n",
    "    else:\n",
    "        # desk  \n",
    "        alpha_td = 1 + len(desk_pxl)/2\n",
    "        gamma_td = 1 + len(desk_pxl)\n",
    "        delta_td = np.sum(desk_pxl)/(1 + len(desk_pxl))\n",
    "        beta_td = np.sum(desk_pxl**2)/2 + 1 - (np.sum(desk_pxl))**2/(2*(1+ len(desk_pxl)))\n",
    "        \n",
    "        return alpha_td, gamma_td, delta_td, beta_td\n",
    "    \n",
    "def BA_test(img_train, mask_train, percentage, img_val, mask_val):\n",
    "    \n",
    "    coin_pxl, desk_pxl = get_pixels(img_val, mask_val, False)\n",
    "    coin_pxl = coin_pxl[:, 2]\n",
    "    desk_pxl = desk_pxl[:, 2]\n",
    " \n",
    "    # proportion of data to access\n",
    "    num_elements_coin = int(np.floor(percentage*len(coin_pxl)))\n",
    "    num_elements_desk = int(np.floor(percentage*len(desk_pxl)))   \n",
    "    \n",
    "    coin_pxl = coin_pxl[0:num_elements_coin]\n",
    "    desk_pxl = desk_pxl[0:num_elements_desk]\n",
    "    \n",
    "    alpha_tc, gamma_tc, delta_tc, beta_tc = BA_tilde_vars(img_train, mask_train, percentage, True)\n",
    "    alpha_td, gamma_td, delta_td, beta_td = BA_tilde_vars(img_train, mask_train, percentage, False)\n",
    "    \n",
    "    test_img = img_val[:,:,2]\n",
    "    test_img = test_img.flatten()\n",
    "    test_img = test_img[0:int(np.floor(percentage*len(test_img)))]  \n",
    "    \n",
    "    # coin\n",
    "    alpha_kc = alpha_tc + 0.5\n",
    "    gamma_kc = gamma_tc + 1\n",
    "    beta_kc = (test_img**2)/2 + beta_tc + (gamma_tc*(delta_tc**2))/2 - ((gamma_tc*delta_tc + test_img)**2)/(2*(gamma_tc + 1))\n",
    "\n",
    "    ba_pdf = lambda alpha_t, gamma_t, beta_t, alpha_k, beta_k, gamma_k: ((1/sqrt(2*pi)) * (sqrt(gamma_t)*power(beta_t, alpha_t))/(sqrt(gamma_k)*(power(beta_k, alpha_k)))) * gamma(alpha_k)/gamma(alpha_t)\n",
    " \n",
    "    p1 = np.array([ba_pdf(alpha_tc, gamma_tc, beta_tc, alpha_kc, i, gamma_kc ) for i in beta_kc ])\n",
    "#     p1 = ba_pdf(alpha_tc, gamma_tc, beta_tc, alpha_kc, matrix(beta_kc*mpf(1.0)), gamma_kc ) \n",
    "    alpha_kd = alpha_td + 0.5\n",
    "    gamma_kd = gamma_td + 1\n",
    "    beta_kd = (test_img**2)/2 + beta_td + (gamma_td*(delta_td**2))/2 - ((gamma_td*delta_td + test_img)**2)/(2*(gamma_td + 1))\n",
    "    print(beta_kd)\n",
    "    p2 = np.array([ba_pdf(alpha_td, gamma_td, beta_td, alpha_kd, i, gamma_kd ) for i in beta_kd ])\n",
    "#     p2 = ba_pdf(alpha_td, gamma_td, beta_td, alpha_kd, matrix(beta_kd*mpf(1.0)), gamma_kd )\n",
    "    \n",
    "    mask_reshape = mask_val.flatten()\n",
    "    chunk_size =int(np.floor(percentage*len(mask_reshape)))\n",
    "    mask_pxl = mask_reshape[0:chunk_size]\n",
    "    \n",
    "    x = p1/(p1 + p2)\n",
    "#     x = np.array(x.tolist(), dtype=float)\n",
    "    x[ x > 0.5] = 1\n",
    "    x[ x <= 0.5] = 0\n",
    "    mask_pxl[ mask_pxl > 200] = 1\n",
    "    mask_pxl[ mask_pxl <= 200] = 0\n",
    "    \n",
    "    return np.sum(x == mask_pxl)/chunk_size\n",
    "    \n",
    "    "
   ]
  },
  {
   "cell_type": "code",
   "execution_count": 26,
   "metadata": {},
   "outputs": [
    {
     "name": "stdout",
     "output_type": "stream",
     "text": [
      "[18873098.01818037 18873101.37544441 18873111.08996248 ...\n",
      " 18873253.37678432 18873271.73399782 18873271.73399782]\n"
     ]
    },
    {
     "data": {
      "text/plain": [
       "0.98640625"
      ]
     },
     "metadata": {},
     "output_type": "display_data"
    }
   ],
   "source": [
    "probs = BA_test(img, mask,  0.25, img1, mask1)\n",
    "display(probs)"
   ]
  },
  {
   "cell_type": "code",
   "execution_count": null,
   "metadata": {},
   "outputs": [],
   "source": []
  }
 ],
 "metadata": {
  "kernelspec": {
   "display_name": "Python 3",
   "language": "python",
   "name": "python3"
  },
  "language_info": {
   "codemirror_mode": {
    "name": "ipython",
    "version": 3
   },
   "file_extension": ".py",
   "mimetype": "text/x-python",
   "name": "python",
   "nbconvert_exporter": "python",
   "pygments_lexer": "ipython3",
   "version": "3.6.5"
  }
 },
 "nbformat": 4,
 "nbformat_minor": 2
}
